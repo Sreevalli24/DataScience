{
 "cells": [
  {
   "cell_type": "code",
   "execution_count": 21,
   "id": "4df004d6-dca5-46e7-a60e-933c4eedc0b5",
   "metadata": {},
   "outputs": [
    {
     "name": "stdin",
     "output_type": "stream",
     "text": [
      "Enter a number -  3\n"
     ]
    },
    {
     "name": "stdout",
     "output_type": "stream",
     "text": [
      "3 is a prime number\n"
     ]
    }
   ],
   "source": [
    "#Exercise 1: Prime Numbers\n",
    "#Write a Python program that checks whether a given number is prime or not. \n",
    "#A prime number is a natural number greater than 1 that has no positive divisors other than 1 and itself.\n",
    "\n",
    "#Code :\n",
    "\n",
    "# Function to check if a number is prime or not\n",
    "def isPrime(n):\n",
    "    if n <= 1:   # 1 and any number less than 1 are not prime numbers because prime numbers are greater than 1.\n",
    "        return False\n",
    "    for i in range(2, int(n ** 0.5) + 1):\n",
    "        if n % i == 0:    # If n is divisible by any number i in the range, it's not prime number\n",
    "            return False\n",
    "    return True  # If no divisors were found, n is prime number\n",
    "\n",
    "x = int(input(\"Enter a number - \"))\n",
    "if is_prime(x):\n",
    "    print(f\"{x} is a prime number\")  # Print if the number is prime\n",
    "else:\n",
    "    print(f\"{x} is not a prime number\")  # Print if the number is not prime\n"
   ]
  },
  {
   "cell_type": "code",
   "execution_count": 29,
   "id": "1abfa334-bed7-478b-b8ce-26f0ba0988cf",
   "metadata": {},
   "outputs": [
    {
     "name": "stdin",
     "output_type": "stream",
     "text": [
      "What is the product of 10 and 17?  170\n"
     ]
    },
    {
     "name": "stdout",
     "output_type": "stream",
     "text": [
      "Correct!!\n"
     ]
    }
   ],
   "source": [
    "#Exercise 2: Product of Random Numbers\n",
    "#Develop a Python program that generates two random numbers and asks the user to enter the product of these numbers.\n",
    "#The program should then check if the user's answer is correct and display an appropriate message.\n",
    "\n",
    "#Code :\n",
    "\n",
    "import random  # Importing the random module to generate random numbers\n",
    "\n",
    "# Function to generate two random numbers and checking the product of two numbers whether correct or not\n",
    "def random_numbers_product_check():\n",
    "    # Generate two random numbers between 1 and 20\n",
    "    num1 = random.randint(1, 20)\n",
    "    num2 = random.randint(1, 20)\n",
    "    \n",
    "    # Calculating product of two numbers\n",
    "    product = num1 * num2\n",
    "    \n",
    "    # Ask the user to enter the product of the two numbers\n",
    "    user_product = int(input(f\"What is the product of {num1} and {num2}? \"))\n",
    "    \n",
    "    # Check if the user's answer is correct\n",
    "    if user_product == product:    # If the answer is correct, print a success message\n",
    "        print(\"Correct!!\")\n",
    "    else:\n",
    "        print(f\"Oops! The correct answer is {product}. Try again !!\")  # If the answer is wrong, print the correct product\n",
    "\n",
    "random_numbers_product_check()\n"
   ]
  },
  {
   "cell_type": "code",
   "execution_count": 31,
   "id": "b01a6922-c013-456c-950d-64512e92a6c6",
   "metadata": {},
   "outputs": [
    {
     "name": "stdout",
     "output_type": "stream",
     "text": [
      "The square of 100 is 10000\n",
      "The square of 102 is 10404\n",
      "The square of 104 is 10816\n",
      "The square of 106 is 11236\n",
      "The square of 108 is 11664\n",
      "The square of 110 is 12100\n",
      "The square of 112 is 12544\n",
      "The square of 114 is 12996\n",
      "The square of 116 is 13456\n",
      "The square of 118 is 13924\n",
      "The square of 120 is 14400\n",
      "The square of 122 is 14884\n",
      "The square of 124 is 15376\n",
      "The square of 126 is 15876\n",
      "The square of 128 is 16384\n",
      "The square of 130 is 16900\n",
      "The square of 132 is 17424\n",
      "The square of 134 is 17956\n",
      "The square of 136 is 18496\n",
      "The square of 138 is 19044\n",
      "The square of 140 is 19600\n",
      "The square of 142 is 20164\n",
      "The square of 144 is 20736\n",
      "The square of 146 is 21316\n",
      "The square of 148 is 21904\n",
      "The square of 150 is 22500\n",
      "The square of 152 is 23104\n",
      "The square of 154 is 23716\n",
      "The square of 156 is 24336\n",
      "The square of 158 is 24964\n",
      "The square of 160 is 25600\n",
      "The square of 162 is 26244\n",
      "The square of 164 is 26896\n",
      "The square of 166 is 27556\n",
      "The square of 168 is 28224\n",
      "The square of 170 is 28900\n",
      "The square of 172 is 29584\n",
      "The square of 174 is 30276\n",
      "The square of 176 is 30976\n",
      "The square of 178 is 31684\n",
      "The square of 180 is 32400\n",
      "The square of 182 is 33124\n",
      "The square of 184 is 33856\n",
      "The square of 186 is 34596\n",
      "The square of 188 is 35344\n",
      "The square of 190 is 36100\n",
      "The square of 192 is 36864\n",
      "The square of 194 is 37636\n",
      "The square of 196 is 38416\n",
      "The square of 198 is 39204\n",
      "The square of 200 is 40000\n"
     ]
    }
   ],
   "source": [
    "#Exercise 3: Squares of Even/Odd Numbers\n",
    "#Create a Python script that prints the squares of all even or odd numbers within the range of 100 to 200. \n",
    "#Choose either even or odd numbers and document your choice in the code.\n",
    "\n",
    "#Code :\n",
    "\n",
    "for i in range(100,201):   # Loop through the range of numbers from 100 to 200\n",
    "    if i%2 == 0:  # Checking if the current number is even\n",
    "        squaredNumber = i**2 # calculating square of even numbers\n",
    "        print(f\"The square of {i} is {squaredNumber}\")"
   ]
  },
  {
   "cell_type": "code",
   "execution_count": 33,
   "id": "237087bc-db01-4184-b4b1-46d7094fad6e",
   "metadata": {},
   "outputs": [
    {
     "name": "stdout",
     "output_type": "stream",
     "text": [
      "'This': 2\n",
      "'is': 1\n",
      "'a': 1\n",
      "'sample': 1\n",
      "'text.': 1\n",
      "'text': 1\n",
      "'will': 1\n",
      "'be': 1\n",
      "'used': 1\n",
      "'to': 1\n",
      "'demonstrate': 1\n",
      "'the': 1\n",
      "'word': 1\n",
      "'counter.': 1\n"
     ]
    }
   ],
   "source": [
    "#Exercise 4: Word counter\n",
    "#write a program to count the number of words in a given text.\n",
    "\n",
    "#Code :\n",
    "\n",
    "# Function to count the number of words in the given text\n",
    "def words_count(input_text):\n",
    "    # Splitting the text into a list of words\n",
    "    words = input_text.split()\n",
    "\n",
    "    # Creating a dictionary to count the occurrences of each word\n",
    "    word_count = {}\n",
    "\n",
    "    # Iterate over each word in the list and update the count in the dictionary\n",
    "    for word in words:\n",
    "        if word in word_count:\n",
    "            word_count[word] += 1  # Increment count if word already exists\n",
    "        else:\n",
    "            word_count[word] = 1   # Initialize count if word is occured for the first time\n",
    "\n",
    "    # Printing the word counts\n",
    "    for word, count in word_count.items():\n",
    "        print(f\"'{word}': {count}\")\n",
    "\n",
    "input_text = \"This is a sample text. This text will be used to demonstrate the word counter.\"\n",
    "\n",
    "words_count(input_text)"
   ]
  },
  {
   "cell_type": "code",
   "execution_count": 35,
   "id": "05f6baa8-c304-4d4e-a8f5-63599b8b05b1",
   "metadata": {},
   "outputs": [
    {
     "name": "stdout",
     "output_type": "stream",
     "text": [
      "True\n"
     ]
    }
   ],
   "source": [
    "#Exercise 5: Check for Palindrome\n",
    "#Write a Python function called is_palindrome that takes a string as input and returns True if the string is a palindrome, and False otherwise. \n",
    "#and capitalization.\n",
    "\n",
    "#Code :\n",
    "\n",
    "# Function to check if the given string is a palindrome or not\n",
    "def is_palindrome(input_string):\n",
    "    # Initialize an empty string to store the filtered characters\n",
    "    string = \"\"\n",
    "\n",
    "    # Loop through each character in the input string\n",
    "    for char in input_string:\n",
    "        # Checking if the character is alphanumeric\n",
    "        if char.isalnum():\n",
    "            # Convert to lowercase and append to string\n",
    "            string += char.lower()\n",
    "\n",
    "    # Checking if the string is equal to its reverse\n",
    "    return string == string[::-1]\n",
    "\n",
    "input_string = \"racecar\"\n",
    "print(is_palindrome(input_string))"
   ]
  }
 ],
 "metadata": {
  "kernelspec": {
   "display_name": "Python 3 (ipykernel)",
   "language": "python",
   "name": "python3"
  },
  "language_info": {
   "codemirror_mode": {
    "name": "ipython",
    "version": 3
   },
   "file_extension": ".py",
   "mimetype": "text/x-python",
   "name": "python",
   "nbconvert_exporter": "python",
   "pygments_lexer": "ipython3",
   "version": "3.12.4"
  }
 },
 "nbformat": 4,
 "nbformat_minor": 5
}
