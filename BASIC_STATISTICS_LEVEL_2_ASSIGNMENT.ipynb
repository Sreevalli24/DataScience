{
  "nbformat": 4,
  "nbformat_minor": 0,
  "metadata": {
    "colab": {
      "provenance": []
    },
    "kernelspec": {
      "name": "python3",
      "display_name": "Python 3"
    },
    "language_info": {
      "name": "python"
    }
  },
  "cells": [
    {
      "cell_type": "markdown",
      "source": [
        "Estimation And Confidence Intervals"
      ],
      "metadata": {
        "id": "hCYT2AIHBp7f"
      }
    },
    {
      "cell_type": "code",
      "execution_count": 18,
      "metadata": {
        "id": "9tsNRCRGBkJ8"
      },
      "outputs": [],
      "source": [
        "#import required libraries\n",
        "import numpy as np\n",
        "from scipy.stats import t\n",
        "from scipy.stats import norm"
      ]
    },
    {
      "cell_type": "code",
      "source": [
        "# Sample data\n",
        "data = [1.13, 1.55, 1.43, 0.92, 1.25, 1.36, 1.32, 0.85, 1.07, 1.48, 1.20, 1.33, 1.18, 1.22, 1.29]"
      ],
      "metadata": {
        "id": "gHsaCHtjBzyg"
      },
      "execution_count": 3,
      "outputs": []
    },
    {
      "cell_type": "code",
      "source": [
        "#Sample size, mean, and standard deviation\n",
        "sample_size = len(data)\n",
        "sample_mean = np.mean(data)\n",
        "sample_std_dev = np.std(data, ddof=1)  # ddof=1 for sample standard deviation"
      ],
      "metadata": {
        "id": "WpWlaaiOCVwc"
      },
      "execution_count": 4,
      "outputs": []
    },
    {
      "cell_type": "code",
      "source": [
        "sample_size"
      ],
      "metadata": {
        "colab": {
          "base_uri": "https://localhost:8080/"
        },
        "id": "MZiJ5TRMChem",
        "outputId": "52f5881d-288e-4114-c31f-5a7fbafb16f7"
      },
      "execution_count": 5,
      "outputs": [
        {
          "output_type": "execute_result",
          "data": {
            "text/plain": [
              "15"
            ]
          },
          "metadata": {},
          "execution_count": 5
        }
      ]
    },
    {
      "cell_type": "code",
      "source": [
        "sample_mean"
      ],
      "metadata": {
        "colab": {
          "base_uri": "https://localhost:8080/"
        },
        "id": "T5mF8qZFCjfj",
        "outputId": "2694e1b3-2b79-4363-8ffb-0c7ff5c4f177"
      },
      "execution_count": 6,
      "outputs": [
        {
          "output_type": "execute_result",
          "data": {
            "text/plain": [
              "1.2386666666666666"
            ]
          },
          "metadata": {},
          "execution_count": 6
        }
      ]
    },
    {
      "cell_type": "code",
      "source": [
        "sample_std_dev"
      ],
      "metadata": {
        "colab": {
          "base_uri": "https://localhost:8080/"
        },
        "id": "-X1zjK9_ClNZ",
        "outputId": "f4a84281-71eb-48ae-cee6-0940b1ab6d36"
      },
      "execution_count": 7,
      "outputs": [
        {
          "output_type": "execute_result",
          "data": {
            "text/plain": [
              "0.19316412956959936"
            ]
          },
          "metadata": {},
          "execution_count": 7
        }
      ]
    },
    {
      "cell_type": "code",
      "source": [
        "#t-critical value for 99% confidence interval\n",
        "confidence_level = 0.99\n",
        "df = sample_size - 1\n",
        "t_critical = t.ppf((1 + confidence_level) / 2, df)\n",
        "t_critical"
      ],
      "metadata": {
        "colab": {
          "base_uri": "https://localhost:8080/"
        },
        "id": "I15V2dbmCn1b",
        "outputId": "df6372a9-9319-43d9-e608-2118a3e1d0fd"
      },
      "execution_count": 11,
      "outputs": [
        {
          "output_type": "execute_result",
          "data": {
            "text/plain": [
              "2.976842734370834"
            ]
          },
          "metadata": {},
          "execution_count": 11
        }
      ]
    },
    {
      "cell_type": "code",
      "source": [
        "#Margin of error\n",
        "margin_of_error = t_critical * (sample_std_dev / np.sqrt(sample_size))\n",
        "margin_of_error"
      ],
      "metadata": {
        "colab": {
          "base_uri": "https://localhost:8080/"
        },
        "id": "JC5mAqQ_C2-w",
        "outputId": "0a203370-97cb-46cb-af5a-7e6db19f541f"
      },
      "execution_count": 12,
      "outputs": [
        {
          "output_type": "execute_result",
          "data": {
            "text/plain": [
              "0.14846932822817596"
            ]
          },
          "metadata": {},
          "execution_count": 12
        }
      ]
    },
    {
      "cell_type": "code",
      "source": [
        "# Confidence interval using sample standard deviation\n",
        "ci_lower = sample_mean - margin_of_error\n",
        "ci_upper = sample_mean + margin_of_error"
      ],
      "metadata": {
        "id": "BPHuYM8pDE3n"
      },
      "execution_count": 17,
      "outputs": []
    },
    {
      "cell_type": "code",
      "source": [
        "ci = (ci_lower, ci_upper)\n",
        "ci"
      ],
      "metadata": {
        "colab": {
          "base_uri": "https://localhost:8080/"
        },
        "id": "-Str3RYvFNmG",
        "outputId": "da6fa9ae-2d53-4380-ae71-46d98e7ef26f"
      },
      "execution_count": 26,
      "outputs": [
        {
          "output_type": "execute_result",
          "data": {
            "text/plain": [
              "(1.0901973384384906, 1.3871359948948425)"
            ]
          },
          "metadata": {},
          "execution_count": 26
        }
      ]
    },
    {
      "cell_type": "code",
      "source": [
        "#Confidence interval using known population standard deviation\n",
        "population_std_dev = 0.2\n",
        "#Z-critical value for 99% confidence interval\n",
        "z_critical = norm.ppf((1 + confidence_level) / 2)\n",
        "z_critical"
      ],
      "metadata": {
        "colab": {
          "base_uri": "https://localhost:8080/"
        },
        "id": "S-AUg6bRDj9P",
        "outputId": "a070b456-56a6-4215-fd81-7de522c6e3b7"
      },
      "execution_count": 28,
      "outputs": [
        {
          "output_type": "execute_result",
          "data": {
            "text/plain": [
              "2.5758293035489004"
            ]
          },
          "metadata": {},
          "execution_count": 28
        }
      ]
    },
    {
      "cell_type": "code",
      "source": [
        "#Margin of error\n",
        "margin_of_error_known = z_critical * (population_std_dev / np.sqrt(sample_size))\n",
        "margin_of_error_known"
      ],
      "metadata": {
        "colab": {
          "base_uri": "https://localhost:8080/"
        },
        "id": "UtOcPEbIEc2-",
        "outputId": "addaa776-54f8-4821-e1d4-2d92e258ed01"
      },
      "execution_count": 21,
      "outputs": [
        {
          "output_type": "execute_result",
          "data": {
            "text/plain": [
              "0.13301525327090588"
            ]
          },
          "metadata": {},
          "execution_count": 21
        }
      ]
    },
    {
      "cell_type": "code",
      "source": [
        "# Confidence interval\n",
        "ci_lower_known = sample_mean - margin_of_error_known\n",
        "ci_upper_known = sample_mean + margin_of_error_known\n",
        "confidence_interval = (ci_lower_known, ci_upper_known)\n",
        "confidence_interval"
      ],
      "metadata": {
        "colab": {
          "base_uri": "https://localhost:8080/"
        },
        "id": "DnNOW1VPEtnU",
        "outputId": "86f6674e-2f37-4632-ae9f-1b990410d37c"
      },
      "execution_count": 24,
      "outputs": [
        {
          "output_type": "execute_result",
          "data": {
            "text/plain": [
              "(1.1056514133957607, 1.3716819199375725)"
            ]
          },
          "metadata": {},
          "execution_count": 24
        }
      ]
    },
    {
      "cell_type": "code",
      "source": [
        "print(\"a.Confidence Interval Using Sample Standard Deviation:\", (ci_lower, ci_upper))\n",
        "print(\"b.Confidence Interval Using Sample Standard Deviation:\", confidence_interval)"
      ],
      "metadata": {
        "colab": {
          "base_uri": "https://localhost:8080/"
        },
        "id": "8jXi4mWPE0QB",
        "outputId": "b8b667b2-a5f2-4561-9483-6ba41685f8a7"
      },
      "execution_count": 27,
      "outputs": [
        {
          "output_type": "stream",
          "name": "stdout",
          "text": [
            "a.Confidence Interval Using Sample Standard Deviation: (1.0901973384384906, 1.3871359948948425)\n",
            "b.Confidence Interval Using Sample Standard Deviation: (1.1056514133957607, 1.3716819199375725)\n"
          ]
        }
      ]
    }
  ]
}