{
  "nbformat": 4,
  "nbformat_minor": 0,
  "metadata": {
    "colab": {
      "provenance": []
    },
    "kernelspec": {
      "name": "python3",
      "display_name": "Python 3"
    },
    "language_info": {
      "name": "python"
    }
  },
  "cells": [
    {
      "cell_type": "code",
      "execution_count": 1,
      "metadata": {
        "id": "ZnLxC_6xHmZz"
      },
      "outputs": [],
      "source": [
        "#import required libraries\n",
        "import numpy as np\n",
        "from scipy.stats import t"
      ]
    },
    {
      "cell_type": "code",
      "source": [
        "sample_mean = 3050  # sample mean weekly cost\n",
        "theoretical_mean = 1000 + 5 * 600  # theoretical mean weekly cost according to the cost model (W = $1,000 + $5X for X = 600 units)\n",
        "standard_deviation = 5 * 25  # standard deviation of the population\n",
        "sample_size = 25  # sample size\n",
        "alpha = 0.05  # significance level"
      ],
      "metadata": {
        "id": "BgiLzyv5Hwee"
      },
      "execution_count": 2,
      "outputs": []
    },
    {
      "cell_type": "code",
      "source": [
        "# Calculate t-statistic\n",
        "t_stat = (sample_mean - theoretical_mean) / (standard_deviation / np.sqrt(sample_size))\n",
        "t_stat"
      ],
      "metadata": {
        "colab": {
          "base_uri": "https://localhost:8080/"
        },
        "id": "gFjur27RID8l",
        "outputId": "b145bad0-3a1c-4d04-dd27-d3b9f0a74265"
      },
      "execution_count": 3,
      "outputs": [
        {
          "output_type": "execute_result",
          "data": {
            "text/plain": [
              "-38.0"
            ]
          },
          "metadata": {},
          "execution_count": 3
        }
      ]
    },
    {
      "cell_type": "code",
      "source": [
        "# Degrees of freedom\n",
        "df = sample_size - 1\n",
        "df"
      ],
      "metadata": {
        "colab": {
          "base_uri": "https://localhost:8080/"
        },
        "id": "CBOv--ZqJ3XU",
        "outputId": "6cf97b5f-af99-4cdf-d2b1-bb7358468cd3"
      },
      "execution_count": 4,
      "outputs": [
        {
          "output_type": "execute_result",
          "data": {
            "text/plain": [
              "24"
            ]
          },
          "metadata": {},
          "execution_count": 4
        }
      ]
    },
    {
      "cell_type": "code",
      "source": [
        "# Calculate p-value (two-tailed test)\n",
        "p_value = t.sf(np.abs(t_stat), df) * 2\n",
        "p_value"
      ],
      "metadata": {
        "colab": {
          "base_uri": "https://localhost:8080/"
        },
        "id": "YofLnJJdJ6GL",
        "outputId": "00c21bf3-45fe-4b2c-a4ac-e3342620c3e5"
      },
      "execution_count": 6,
      "outputs": [
        {
          "output_type": "execute_result",
          "data": {
            "text/plain": [
              "5.921562161635581e-23"
            ]
          },
          "metadata": {},
          "execution_count": 6
        }
      ]
    },
    {
      "cell_type": "code",
      "source": [
        "critical_value = t.ppf(1 - alpha, df)\n",
        "critical_value"
      ],
      "metadata": {
        "colab": {
          "base_uri": "https://localhost:8080/"
        },
        "id": "nq4OHxeBKA6T",
        "outputId": "aaecfd04-6768-4950-8da0-f03b316cfb06"
      },
      "execution_count": 7,
      "outputs": [
        {
          "output_type": "execute_result",
          "data": {
            "text/plain": [
              "1.7108820799094275"
            ]
          },
          "metadata": {},
          "execution_count": 7
        }
      ]
    },
    {
      "cell_type": "code",
      "source": [
        "print(\"T-statistics : \",t_stat)"
      ],
      "metadata": {
        "colab": {
          "base_uri": "https://localhost:8080/"
        },
        "id": "Xz1YAtAIKKlt",
        "outputId": "9c7b82ac-4a45-4eb5-aed2-73f5832a12ee"
      },
      "execution_count": 8,
      "outputs": [
        {
          "output_type": "stream",
          "name": "stdout",
          "text": [
            "T-statistics :  -38.0\n"
          ]
        }
      ]
    },
    {
      "cell_type": "code",
      "source": [
        "print(\"P-value : \",p_value)"
      ],
      "metadata": {
        "colab": {
          "base_uri": "https://localhost:8080/"
        },
        "id": "2OGPpG26KOVi",
        "outputId": "7ccd1965-afce-4cb1-c658-76fc00e05cb2"
      },
      "execution_count": 9,
      "outputs": [
        {
          "output_type": "stream",
          "name": "stdout",
          "text": [
            "P-value :  5.921562161635581e-23\n"
          ]
        }
      ]
    },
    {
      "cell_type": "code",
      "source": [
        "if p_value < alpha:\n",
        "  print(\"Reject null hypothesis\")\n",
        "else :\n",
        "  print(\"Accept null hypothesis\")"
      ],
      "metadata": {
        "colab": {
          "base_uri": "https://localhost:8080/"
        },
        "id": "e8LW9S9tLDnO",
        "outputId": "5e0dfd81-406d-417a-c32a-d282d6e9b8f0"
      },
      "execution_count": 10,
      "outputs": [
        {
          "output_type": "stream",
          "name": "stdout",
          "text": [
            "Reject null hypothesis\n"
          ]
        }
      ]
    }
  ]
}